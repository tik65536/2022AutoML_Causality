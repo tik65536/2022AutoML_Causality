{
 "cells": [
  {
   "cell_type": "code",
   "execution_count": 5,
   "id": "d1f7e049-c3c4-4a9f-bda6-97122e85fa25",
   "metadata": {},
   "outputs": [
    {
     "name": "stdout",
     "output_type": "stream",
     "text": [
      "The autoreload extension is already loaded. To reload it, use:\n",
      "  %reload_ext autoreload\n"
     ]
    }
   ],
   "source": [
    "%load_ext autoreload\n",
    "%autoreload 2\n",
    "import os\n",
    "import sys\n",
    "import pickle\n",
    "import numpy as np\n",
    "import pandas as pd\n",
    "import matplotlib.pyplot as plt\n",
    "import warnings\n",
    "from sklearn.ensemble import RandomForestClassifier\n",
    "warnings.filterwarnings('ignore') # suppress sklearn deprecation warnings for now..\n",
    "try:\n",
    "    import graphviz\n",
    "except ModuleNotFoundError as e:\n",
    "    import pip\n",
    "    pip.main([\"install\",\"graphviz\"])\n",
    "    import graphviz\n",
    "\n",
    "from typing import Union\n",
    "\n",
    "from sklearn.model_selection import train_test_split\n",
    "from auto_causality import AutoCausality\n",
    "from auto_causality.data_utils import preprocess_dataset\n",
    "from auto_causality.datasets import generate_synthetic_data\n",
    "\n",
    "from sklearn.naive_bayes import GaussianNB"
   ]
  },
  {
   "cell_type": "code",
   "execution_count": 2,
   "id": "321be0d5-e034-4bf6-9bca-f0d90bb357cf",
   "metadata": {},
   "outputs": [],
   "source": [
    "# set a few params\n",
    "metrics = [\"norm_erupt\", \"qini\",\"energy_distance\"]\n",
    "n_samples = 10000\n",
    "test_size = 0.33 # equal train,val,test\n",
    "components_time_budget = 300\n",
    "estimator_list = \"all\"\n",
    "n_runs = 1\n",
    "out_dir = \"./data/\"\n",
    "filename_out = \"synthetic_observational_cate_24h\" "
   ]
  },
  {
   "cell_type": "code",
   "execution_count": null,
   "id": "bb21b911-773f-4cb5-9e97-a7c8a691e898",
   "metadata": {},
   "outputs": [
    {
     "name": "stdout",
     "output_type": "stream",
     "text": [
      "Evaluation failed!\n",
      " {} Traceback (most recent call last):\n",
      "  File \"/gpfs/space/home/waiti84/.local/lib/python3.8/site-packages/auto_causality/optimiser.py\", line 503, in _estimate_effect\n",
      "    estimate = self.causal_model.estimate_effect(\n",
      "  File \"/gpfs/space/home/waiti84/.local/lib/python3.8/site-packages/dowhy/causal_model.py\", line 318, in estimate_effect\n",
      "    return estimate_effect(\n",
      "  File \"/gpfs/space/home/waiti84/.local/lib/python3.8/site-packages/dowhy/causal_estimator.py\", line 711, in estimate_effect\n",
      "    estimator.fit(\n",
      "  File \"/gpfs/space/home/waiti84/.local/lib/python3.8/site-packages/dowhy/causal_estimators/econml.py\", line 200, in fit\n",
      "    self.estimator.fit(**estimator_data_args, **kwargs)\n",
      "  File \"/gpfs/space/home/waiti84/.local/lib/python3.8/site-packages/econml/_cate_estimator.py\", line 130, in call\n",
      "    m(self, Y, T, *args, **kwargs)\n",
      "  File \"/gpfs/space/home/waiti84/.local/lib/python3.8/site-packages/econml/metalearners/_metalearners.py\", line 222, in fit\n",
      "    self.overall_model.fit(feat_arr, Y)\n",
      "  File \"/gpfs/space/home/waiti84/.local/lib/python3.8/site-packages/auto_causality/models/monkey_patches.py\", line 80, in fit\n",
      "    super().fit(X_train, self._preprocess_y(y_train), *args, **kwargs)\n",
      "  File \"/gpfs/space/home/waiti84/.local/lib/python3.8/site-packages/flaml/automl.py\", line 2899, in fit\n",
      "    self._search()\n",
      "  File \"/gpfs/space/home/waiti84/.local/lib/python3.8/site-packages/flaml/automl.py\", line 3446, in _search\n",
      "    self._search_sequential()\n",
      "  File \"/gpfs/space/home/waiti84/.local/lib/python3.8/site-packages/flaml/automl.py\", line 3269, in _search_sequential\n",
      "    analysis = tune.run(\n",
      "  File \"/gpfs/space/home/waiti84/.local/lib/python3.8/site-packages/flaml/tune/tune.py\", line 647, in run\n",
      "    _runner.stop_trial(trial_to_run)\n",
      "AttributeError: 'NoneType' object has no attribute 'stop_trial'\n",
      "\n"
     ]
    }
   ],
   "source": [
    "dataset = generate_synthetic_data(n_samples=n_samples, confounding=True, linear_confounder=True, noisy_outcomes=True)\n",
    "data_df, features_X, features_W = preprocess_dataset(\n",
    "    dataset.data, treatment=dataset.treatment, targets=dataset.outcomes\n",
    ")\n",
    "# drop true effect:\n",
    "features_X = [f for f in features_X if f != \"true_effect\"]\n",
    "print(f\"features_X: {features_X}\")\n",
    "print(f\"features_W: {features_W}\")\n",
    "dataset"
   ]
  },
  {
   "cell_type": "code",
   "execution_count": 7,
   "id": "08862a0b-e00d-4d99-83d6-31ca88e9dae7",
   "metadata": {},
   "outputs": [
    {
     "name": "stdout",
     "output_type": "stream",
     "text": [
      "         X1        X2        X3        X4        X5  treatment   outcome  \\\n",
      "0 -0.056086  0.111606 -0.228722  0.089729 -0.120138        0.0 -0.251658   \n",
      "1 -0.201777 -0.074248  0.032999 -0.135891  0.071227        0.0 -0.024923   \n",
      "2  0.001269 -0.246160  0.047168 -0.103438  0.072252        0.0 -0.045418   \n",
      "3 -0.019302 -0.277122 -0.190084 -0.177494  0.158151        1.0 -0.363863   \n",
      "4 -0.016620 -0.261740  0.107194 -0.022283  0.442618        0.0  0.236519   \n",
      "5 -0.010561  0.167604 -0.297077  0.269120  0.060966        0.0 -0.369017   \n",
      "6  0.228346  0.024632  0.005815 -0.067551 -0.078381        1.0  0.240320   \n",
      "7 -0.111989  0.032679 -0.187040 -0.104706 -0.091066        0.0 -0.197062   \n",
      "8 -0.157471  0.122588 -0.138818 -0.113370 -0.299007        1.0 -0.367156   \n",
      "9 -0.085852  0.091450  0.097827  0.274133 -0.193237        1.0  0.299376   \n",
      "\n",
      "   true_effect  propensity  base_outcome  random  \n",
      "0    -0.040203    0.417207     -0.251658     0.0  \n",
      "1    -0.033400    0.668309     -0.024923     1.0  \n",
      "2    -0.036056    0.727525     -0.045418     1.0  \n",
      "3    -0.196972    0.758980     -0.166891     1.0  \n",
      "4     0.211927    0.746532      0.236519     1.0  \n",
      "5     0.169585    0.343149     -0.369017     0.0  \n",
      "6     0.161785    0.364655      0.078535     1.0  \n",
      "7    -0.146095    0.523299     -0.197062     1.0  \n",
      "8    -0.212661    0.456259     -0.154495     0.0  \n",
      "9     0.223709    0.451627      0.075667     1.0  \n"
     ]
    }
   ],
   "source": [
    "print(dataset.data.head(10))"
   ]
  },
  {
   "cell_type": "code",
   "execution_count": 6,
   "id": "d9079d9c-b439-429a-a6f3-cf2ccced1c21",
   "metadata": {},
   "outputs": [
    {
     "name": "stdout",
     "output_type": "stream",
     "text": [
      "Fitting a Propensity-Weighted scoring estimator to be used in scoring tasks\n"
     ]
    },
    {
     "name": "stderr",
     "output_type": "stream",
     "text": [
      "[flaml.tune.tune: 01-03 15:03:43] {493} WARNING - Using CFO for search. To use BlendSearch, run: pip install flaml[blendsearch]\n",
      "[flaml.tune.tune: 01-03 15:03:43] {636} INFO - trial 1 config: {'estimator': {'estimator_name': 'backdoor.auto_causality.models.NaiveDummy'}}\n"
     ]
    },
    {
     "name": "stdout",
     "output_type": "stream",
     "text": [
      "Initial configs: [{'estimator': {'estimator_name': 'backdoor.auto_causality.models.NaiveDummy'}}, {'estimator': {'estimator_name': 'backdoor.auto_causality.models.Dummy'}}, {'estimator': {'estimator_name': 'backdoor.econml.metalearners.SLearner'}}, {'estimator': {'estimator_name': 'backdoor.econml.metalearners.TLearner'}}, {'estimator': {'estimator_name': 'backdoor.econml.metalearners.XLearner'}}, {'estimator': {'estimator_name': 'backdoor.econml.metalearners.DomainAdaptationLearner'}}, {'estimator': {'estimator_name': 'backdoor.econml.dr.ForestDRLearner', 'min_propensity': 1e-06, 'n_estimators': 100, 'min_samples_split': 5, 'min_samples_leaf': 5, 'min_weight_fraction_leaf': 0.0, 'max_features': 'auto', 'min_impurity_decrease': 0.0, 'max_samples': 0.45, 'min_balancedness_tol': 0.45, 'honest': True, 'subforest_size': 4}}, {'estimator': {'estimator_name': 'backdoor.econml.dr.LinearDRLearner', 'fit_cate_intercept': True, 'min_propensity': 1e-06}}, {'estimator': {'estimator_name': 'backdoor.econml.dr.SparseLinearDRLearner', 'fit_cate_intercept': True, 'n_alphas': 100, 'n_alphas_cov': 10, 'min_propensity': 1e-06, 'tol': 0.0001, 'max_iter': 10000, 'mc_agg': 'mean'}}, {'estimator': {'estimator_name': 'backdoor.econml.dml.LinearDML', 'fit_cate_intercept': True, 'mc_agg': 'mean'}}, {'estimator': {'estimator_name': 'backdoor.econml.dml.SparseLinearDML', 'fit_cate_intercept': True, 'n_alphas': 100, 'n_alphas_cov': 10, 'tol': 0.0001, 'max_iter': 10000, 'mc_agg': 'mean'}}, {'estimator': {'estimator_name': 'backdoor.econml.dml.CausalForestDML', 'drate': True, 'n_estimators': 100, 'criterion': 'mse', 'min_samples_split': 10, 'min_samples_leaf': 5, 'min_weight_fraction_leaf': 0.0, 'max_features': 'auto', 'min_impurity_decrease': 0.0, 'max_samples': 0.45, 'min_balancedness_tol': 0.45, 'honest': True, 'fit_intercept': True, 'subforest_size': 4}}, {'estimator': {'estimator_name': 'backdoor.auto_causality.models.TransformedOutcome'}}]\n"
     ]
    },
    {
     "name": "stderr",
     "output_type": "stream",
     "text": [
      "[flaml.tune.tune: 01-03 15:03:43] {636} INFO - trial 2 config: {'estimator': {'estimator_name': 'backdoor.auto_causality.models.Dummy'}}\n"
     ]
    },
    {
     "name": "stdout",
     "output_type": "stream",
     "text": [
      "Evaluation failed!\n",
      " {} Traceback (most recent call last):\n",
      "  File \"/gpfs/space/home/waiti84/.local/lib/python3.8/site-packages/auto_causality/optimiser.py\", line 517, in _estimate_effect\n",
      "    \"train\": self._compute_metrics(\n",
      "  File \"/gpfs/space/home/waiti84/.local/lib/python3.8/site-packages/auto_causality/optimiser.py\", line 544, in _compute_metrics\n",
      "    return self.scorer.make_scores(\n",
      "  File \"/gpfs/space/home/waiti84/.local/lib/python3.8/site-packages/auto_causality/scoring.py\", line 294, in make_scores\n",
      "    ] = self.psw_estimator.estimator.propensity_model.predict_proba(df)[\n",
      "  File \"/gpfs/space/home/waiti84/.local/lib/python3.8/site-packages/sklearn/ensemble/_forest.py\", line 850, in predict_proba\n",
      "    X = self._validate_X_predict(X)\n",
      "  File \"/gpfs/space/home/waiti84/.local/lib/python3.8/site-packages/sklearn/ensemble/_forest.py\", line 579, in _validate_X_predict\n",
      "    X = self._validate_data(X, dtype=DTYPE, accept_sparse=\"csr\", reset=False)\n",
      "  File \"/gpfs/space/home/waiti84/.local/lib/python3.8/site-packages/sklearn/base.py\", line 585, in _validate_data\n",
      "    self._check_n_features(X, reset=reset)\n",
      "  File \"/gpfs/space/home/waiti84/.local/lib/python3.8/site-packages/sklearn/base.py\", line 400, in _check_n_features\n",
      "    raise ValueError(\n",
      "ValueError: X has 12 features, but RandomForestClassifier is expecting 8 features as input.\n",
      "\n"
     ]
    },
    {
     "name": "stderr",
     "output_type": "stream",
     "text": [
      "[flaml.tune.tune: 01-03 15:03:44] {636} INFO - trial 3 config: {'estimator': {'estimator_name': 'backdoor.econml.metalearners.SLearner'}}\n"
     ]
    },
    {
     "name": "stdout",
     "output_type": "stream",
     "text": [
      "Evaluation failed!\n",
      " {} Traceback (most recent call last):\n",
      "  File \"/gpfs/space/home/waiti84/.local/lib/python3.8/site-packages/auto_causality/optimiser.py\", line 517, in _estimate_effect\n",
      "    \"train\": self._compute_metrics(\n",
      "  File \"/gpfs/space/home/waiti84/.local/lib/python3.8/site-packages/auto_causality/optimiser.py\", line 544, in _compute_metrics\n",
      "    return self.scorer.make_scores(\n",
      "  File \"/gpfs/space/home/waiti84/.local/lib/python3.8/site-packages/auto_causality/scoring.py\", line 294, in make_scores\n",
      "    ] = self.psw_estimator.estimator.propensity_model.predict_proba(df)[\n",
      "  File \"/gpfs/space/home/waiti84/.local/lib/python3.8/site-packages/sklearn/ensemble/_forest.py\", line 850, in predict_proba\n",
      "    X = self._validate_X_predict(X)\n",
      "  File \"/gpfs/space/home/waiti84/.local/lib/python3.8/site-packages/sklearn/ensemble/_forest.py\", line 579, in _validate_X_predict\n",
      "    X = self._validate_data(X, dtype=DTYPE, accept_sparse=\"csr\", reset=False)\n",
      "  File \"/gpfs/space/home/waiti84/.local/lib/python3.8/site-packages/sklearn/base.py\", line 585, in _validate_data\n",
      "    self._check_n_features(X, reset=reset)\n",
      "  File \"/gpfs/space/home/waiti84/.local/lib/python3.8/site-packages/sklearn/base.py\", line 400, in _check_n_features\n",
      "    raise ValueError(\n",
      "ValueError: X has 12 features, but RandomForestClassifier is expecting 8 features as input.\n",
      "\n"
     ]
    },
    {
     "ename": "KeyboardInterrupt",
     "evalue": "",
     "output_type": "error",
     "traceback": [
      "\u001b[0;31m---------------------------------------------------------------------------\u001b[0m",
      "\u001b[0;31mKeyboardInterrupt\u001b[0m                         Traceback (most recent call last)",
      "Cell \u001b[0;32mIn[6], line 18\u001b[0m\n\u001b[1;32m      7\u001b[0m clf \u001b[38;5;241m=\u001b[39m RandomForestClassifier(max_depth\u001b[38;5;241m=\u001b[39m\u001b[38;5;241m2\u001b[39m, random_state\u001b[38;5;241m=\u001b[39m\u001b[38;5;241m0\u001b[39m)\n\u001b[1;32m      8\u001b[0m ac \u001b[38;5;241m=\u001b[39m AutoCausality(\n\u001b[1;32m      9\u001b[0m         metric\u001b[38;5;241m=\u001b[39mmetric,\n\u001b[1;32m     10\u001b[0m         verbose\u001b[38;5;241m=\u001b[39m\u001b[38;5;241m1\u001b[39m,\n\u001b[0;32m   (...)\u001b[0m\n\u001b[1;32m     15\u001b[0m         propensity_model\u001b[38;5;241m=\u001b[39mclf,\n\u001b[1;32m     16\u001b[0m     )\n\u001b[0;32m---> 18\u001b[0m \u001b[43mac\u001b[49m\u001b[38;5;241;43m.\u001b[39;49m\u001b[43mfit\u001b[49m\u001b[43m(\u001b[49m\n\u001b[1;32m     19\u001b[0m \u001b[43m        \u001b[49m\u001b[43mtrain_df\u001b[49m\u001b[43m,\u001b[49m\n\u001b[1;32m     20\u001b[0m \u001b[43m        \u001b[49m\u001b[43mtreatment\u001b[49m\u001b[38;5;241;43m=\u001b[39;49m\u001b[38;5;124;43m\"\u001b[39;49m\u001b[38;5;124;43mtreatment\u001b[39;49m\u001b[38;5;124;43m\"\u001b[39;49m\u001b[43m,\u001b[49m\n\u001b[1;32m     21\u001b[0m \u001b[43m        \u001b[49m\u001b[43moutcome\u001b[49m\u001b[38;5;241;43m=\u001b[39;49m\u001b[43m[\u001b[49m\u001b[38;5;124;43m\"\u001b[39;49m\u001b[38;5;124;43moutcome\u001b[39;49m\u001b[38;5;124;43m\"\u001b[39;49m\u001b[43m]\u001b[49m\u001b[43m,\u001b[49m\n\u001b[1;32m     22\u001b[0m \u001b[43m        \u001b[49m\u001b[43mcommon_causes\u001b[49m\u001b[38;5;241;43m=\u001b[39;49m\u001b[43mfeatures_W\u001b[49m\u001b[43m,\u001b[49m\n\u001b[1;32m     23\u001b[0m \u001b[43m        \u001b[49m\u001b[43meffect_modifiers\u001b[49m\u001b[38;5;241;43m=\u001b[39;49m\u001b[43mfeatures_X\u001b[49m\u001b[43m,\u001b[49m\n\u001b[1;32m     24\u001b[0m \u001b[43m    \u001b[49m\u001b[43m)\u001b[49m\n\u001b[1;32m     26\u001b[0m     \u001b[38;5;66;03m# compute relevant scores (skip newdummy)\u001b[39;00m\n\u001b[1;32m     27\u001b[0m datasets \u001b[38;5;241m=\u001b[39m {\u001b[38;5;124m\"\u001b[39m\u001b[38;5;124mtrain\u001b[39m\u001b[38;5;124m\"\u001b[39m: ac\u001b[38;5;241m.\u001b[39mtrain_df, \u001b[38;5;124m\"\u001b[39m\u001b[38;5;124mvalidation\u001b[39m\u001b[38;5;124m\"\u001b[39m: ac\u001b[38;5;241m.\u001b[39mtest_df, \u001b[38;5;124m\"\u001b[39m\u001b[38;5;124mtest\u001b[39m\u001b[38;5;124m\"\u001b[39m: test_df}\n",
      "File \u001b[0;32m~/.local/lib/python3.8/site-packages/auto_causality/optimiser.py:417\u001b[0m, in \u001b[0;36mAutoCausality.fit\u001b[0;34m(self, data, treatment, outcome, common_causes, effect_modifiers, instruments, propensity_modifiers, estimator_list, resume, time_budget)\u001b[0m\n\u001b[1;32m    414\u001b[0m     \u001b[38;5;28;01mfor\u001b[39;00m cfg \u001b[38;5;129;01min\u001b[39;00m init_cfg:\n\u001b[1;32m    415\u001b[0m         \u001b[38;5;28mself\u001b[39m\u001b[38;5;241m.\u001b[39mresume_cfg\u001b[38;5;241m.\u001b[39mappend(cfg) \u001b[38;5;28;01mif\u001b[39;00m cfg \u001b[38;5;129;01mnot\u001b[39;00m \u001b[38;5;129;01min\u001b[39;00m \u001b[38;5;28mself\u001b[39m\u001b[38;5;241m.\u001b[39mresume_cfg \u001b[38;5;28;01melse\u001b[39;00m \u001b[38;5;28;01mNone\u001b[39;00m\n\u001b[0;32m--> 417\u001b[0m \u001b[38;5;28mself\u001b[39m\u001b[38;5;241m.\u001b[39mresults \u001b[38;5;241m=\u001b[39m \u001b[43mtune\u001b[49m\u001b[38;5;241;43m.\u001b[39;49m\u001b[43mrun\u001b[49m\u001b[43m(\u001b[49m\n\u001b[1;32m    418\u001b[0m \u001b[43m    \u001b[49m\u001b[38;5;28;43mself\u001b[39;49m\u001b[38;5;241;43m.\u001b[39;49m\u001b[43m_tune_with_config\u001b[49m\u001b[43m,\u001b[49m\n\u001b[1;32m    419\u001b[0m \u001b[43m    \u001b[49m\u001b[43msearch_space\u001b[49m\u001b[43m,\u001b[49m\n\u001b[1;32m    420\u001b[0m \u001b[43m    \u001b[49m\u001b[43mmetric\u001b[49m\u001b[38;5;241;43m=\u001b[39;49m\u001b[38;5;28;43mself\u001b[39;49m\u001b[38;5;241;43m.\u001b[39;49m\u001b[43mmetric\u001b[49m\u001b[43m,\u001b[49m\n\u001b[1;32m    421\u001b[0m \u001b[43m    \u001b[49m\u001b[43mpoints_to_evaluate\u001b[49m\u001b[38;5;241;43m=\u001b[39;49m\u001b[43minit_cfg\u001b[49m\n\u001b[1;32m    422\u001b[0m \u001b[43m    \u001b[49m\u001b[38;5;28;43;01mif\u001b[39;49;00m\u001b[43m \u001b[49m\u001b[38;5;28;43mlen\u001b[39;49m\u001b[43m(\u001b[49m\u001b[38;5;28;43mself\u001b[39;49m\u001b[38;5;241;43m.\u001b[39;49m\u001b[43mresume_cfg\u001b[49m\u001b[43m)\u001b[49m\u001b[43m \u001b[49m\u001b[38;5;241;43m==\u001b[39;49m\u001b[43m \u001b[49m\u001b[38;5;241;43m0\u001b[39;49m\n\u001b[1;32m    423\u001b[0m \u001b[43m    \u001b[49m\u001b[38;5;28;43;01melse\u001b[39;49;00m\u001b[43m \u001b[49m\u001b[38;5;28;43mself\u001b[39;49m\u001b[38;5;241;43m.\u001b[39;49m\u001b[43mresume_cfg\u001b[49m\u001b[43m,\u001b[49m\n\u001b[1;32m    424\u001b[0m \u001b[43m    \u001b[49m\u001b[43mevaluated_rewards\u001b[49m\u001b[38;5;241;43m=\u001b[39;49m\u001b[43m[\u001b[49m\u001b[43m]\u001b[49m\n\u001b[1;32m    425\u001b[0m \u001b[43m    \u001b[49m\u001b[38;5;28;43;01mif\u001b[39;49;00m\u001b[43m \u001b[49m\u001b[38;5;28;43mlen\u001b[39;49m\u001b[43m(\u001b[49m\u001b[38;5;28;43mself\u001b[39;49m\u001b[38;5;241;43m.\u001b[39;49m\u001b[43mresume_scores\u001b[49m\u001b[43m)\u001b[49m\u001b[43m \u001b[49m\u001b[38;5;241;43m==\u001b[39;49m\u001b[43m \u001b[49m\u001b[38;5;241;43m0\u001b[39;49m\n\u001b[1;32m    426\u001b[0m \u001b[43m    \u001b[49m\u001b[38;5;28;43;01melse\u001b[39;49;00m\u001b[43m \u001b[49m\u001b[38;5;28;43mself\u001b[39;49m\u001b[38;5;241;43m.\u001b[39;49m\u001b[43mresume_scores\u001b[49m\u001b[43m,\u001b[49m\n\u001b[1;32m    427\u001b[0m \u001b[43m    \u001b[49m\u001b[43mmode\u001b[49m\u001b[38;5;241;43m=\u001b[39;49m\u001b[38;5;124;43m\"\u001b[39;49m\u001b[38;5;124;43mmin\u001b[39;49m\u001b[38;5;124;43m\"\u001b[39;49m\u001b[43m \u001b[49m\u001b[38;5;28;43;01mif\u001b[39;49;00m\u001b[43m \u001b[49m\u001b[38;5;28;43mself\u001b[39;49m\u001b[38;5;241;43m.\u001b[39;49m\u001b[43mmetric\u001b[49m\u001b[43m \u001b[49m\u001b[38;5;241;43m==\u001b[39;49m\u001b[43m \u001b[49m\u001b[38;5;124;43m\"\u001b[39;49m\u001b[38;5;124;43menergy_distance\u001b[39;49m\u001b[38;5;124;43m\"\u001b[39;49m\u001b[43m \u001b[49m\u001b[38;5;28;43;01melse\u001b[39;49;00m\u001b[43m \u001b[49m\u001b[38;5;124;43m\"\u001b[39;49m\u001b[38;5;124;43mmax\u001b[39;49m\u001b[38;5;124;43m\"\u001b[39;49m\u001b[43m,\u001b[49m\n\u001b[1;32m    428\u001b[0m \u001b[43m    \u001b[49m\u001b[43mlow_cost_partial_config\u001b[49m\u001b[38;5;241;43m=\u001b[39;49m\u001b[43m{\u001b[49m\u001b[43m}\u001b[49m\u001b[43m,\u001b[49m\n\u001b[1;32m    429\u001b[0m \u001b[43m    \u001b[49m\u001b[38;5;241;43m*\u001b[39;49m\u001b[38;5;241;43m*\u001b[39;49m\u001b[38;5;28;43mself\u001b[39;49m\u001b[38;5;241;43m.\u001b[39;49m\u001b[43m_settings\u001b[49m\u001b[43m[\u001b[49m\u001b[38;5;124;43m\"\u001b[39;49m\u001b[38;5;124;43mtuner\u001b[39;49m\u001b[38;5;124;43m\"\u001b[39;49m\u001b[43m]\u001b[49m\u001b[43m,\u001b[49m\n\u001b[1;32m    430\u001b[0m \u001b[43m\u001b[49m\u001b[43m)\u001b[49m\n\u001b[1;32m    432\u001b[0m \u001b[38;5;28;01mif\u001b[39;00m \u001b[38;5;28mself\u001b[39m\u001b[38;5;241m.\u001b[39mresults\u001b[38;5;241m.\u001b[39mget_best_trial() \u001b[38;5;129;01mis\u001b[39;00m \u001b[38;5;28;01mNone\u001b[39;00m:\n\u001b[1;32m    433\u001b[0m     \u001b[38;5;28;01mraise\u001b[39;00m \u001b[38;5;167;01mException\u001b[39;00m(\n\u001b[1;32m    434\u001b[0m         \u001b[38;5;124m\"\u001b[39m\u001b[38;5;124mOptimization failed! Did you set large enough time_budget and components_budget?\u001b[39m\u001b[38;5;124m\"\u001b[39m\n\u001b[1;32m    435\u001b[0m     )\n",
      "File \u001b[0;32m~/.local/lib/python3.8/site-packages/flaml/tune/tune.py:637\u001b[0m, in \u001b[0;36mrun\u001b[0;34m(evaluation_function, config, low_cost_partial_config, cat_hp_cost, metric, mode, time_budget_s, points_to_evaluate, evaluated_rewards, resource_attr, min_resource, max_resource, reduction_factor, scheduler, search_alg, verbose, local_dir, num_samples, resources_per_trial, config_constraints, metric_constraints, max_failure, use_ray, use_incumbent_result_in_evaluation, log_file_name, lexico_objectives, **ray_args)\u001b[0m\n\u001b[1;32m    635\u001b[0m \u001b[38;5;28;01mif\u001b[39;00m verbose:\n\u001b[1;32m    636\u001b[0m     logger\u001b[38;5;241m.\u001b[39minfo(\u001b[38;5;124mf\u001b[39m\u001b[38;5;124m\"\u001b[39m\u001b[38;5;124mtrial \u001b[39m\u001b[38;5;132;01m{\u001b[39;00mnum_trials\u001b[38;5;132;01m}\u001b[39;00m\u001b[38;5;124m config: \u001b[39m\u001b[38;5;132;01m{\u001b[39;00mtrial_to_run\u001b[38;5;241m.\u001b[39mconfig\u001b[38;5;132;01m}\u001b[39;00m\u001b[38;5;124m\"\u001b[39m)\n\u001b[0;32m--> 637\u001b[0m result \u001b[38;5;241m=\u001b[39m \u001b[43mevaluation_function\u001b[49m\u001b[43m(\u001b[49m\u001b[43mtrial_to_run\u001b[49m\u001b[38;5;241;43m.\u001b[39;49m\u001b[43mconfig\u001b[49m\u001b[43m)\u001b[49m\n\u001b[1;32m    638\u001b[0m \u001b[38;5;28;01mif\u001b[39;00m result \u001b[38;5;129;01mis\u001b[39;00m \u001b[38;5;129;01mnot\u001b[39;00m \u001b[38;5;28;01mNone\u001b[39;00m:\n\u001b[1;32m    639\u001b[0m     \u001b[38;5;28;01mif\u001b[39;00m \u001b[38;5;28misinstance\u001b[39m(result, \u001b[38;5;28mdict\u001b[39m):\n",
      "File \u001b[0;32m~/.local/lib/python3.8/site-packages/auto_causality/optimiser.py:465\u001b[0m, in \u001b[0;36mAutoCausality._tune_with_config\u001b[0;34m(self, config)\u001b[0m\n\u001b[1;32m    450\u001b[0m \u001b[38;5;124;03m\"\"\"Performs Hyperparameter Optimisation for a\u001b[39;00m\n\u001b[1;32m    451\u001b[0m \u001b[38;5;124;03mcausal inference estimator\u001b[39;00m\n\u001b[1;32m    452\u001b[0m \n\u001b[0;32m   (...)\u001b[0m\n\u001b[1;32m    458\u001b[0m \u001b[38;5;124;03m    dict: values of metrics after optimisation\u001b[39;00m\n\u001b[1;32m    459\u001b[0m \u001b[38;5;124;03m\"\"\"\u001b[39;00m\n\u001b[1;32m    460\u001b[0m \u001b[38;5;66;03m# estimate effect with current config\u001b[39;00m\n\u001b[1;32m    461\u001b[0m \n\u001b[1;32m    462\u001b[0m \u001b[38;5;66;03m# if using FLAML < 1.0.7 need to set n_jobs = 2 here\u001b[39;00m\n\u001b[1;32m    463\u001b[0m \u001b[38;5;66;03m# to spawn a separate process to prevent cross-talk between tuner and automl on component models:\u001b[39;00m\n\u001b[0;32m--> 465\u001b[0m estimates \u001b[38;5;241m=\u001b[39m \u001b[43mParallel\u001b[49m\u001b[43m(\u001b[49m\u001b[43mn_jobs\u001b[49m\u001b[38;5;241;43m=\u001b[39;49m\u001b[38;5;241;43m2\u001b[39;49m\u001b[43m,\u001b[49m\u001b[43m \u001b[49m\u001b[43mbackend\u001b[49m\u001b[38;5;241;43m=\u001b[39;49m\u001b[38;5;124;43m\"\u001b[39;49m\u001b[38;5;124;43mthreading\u001b[39;49m\u001b[38;5;124;43m\"\u001b[39;49m\u001b[43m)\u001b[49m\u001b[43m(\u001b[49m\n\u001b[1;32m    466\u001b[0m \u001b[43m    \u001b[49m\u001b[43mdelayed\u001b[49m\u001b[43m(\u001b[49m\u001b[38;5;28;43mself\u001b[39;49m\u001b[38;5;241;43m.\u001b[39;49m\u001b[43m_estimate_effect\u001b[49m\u001b[43m)\u001b[49m\u001b[43m(\u001b[49m\u001b[43mconfig\u001b[49m\u001b[43m[\u001b[49m\u001b[38;5;124;43m\"\u001b[39;49m\u001b[38;5;124;43mestimator\u001b[39;49m\u001b[38;5;124;43m\"\u001b[39;49m\u001b[43m]\u001b[49m\u001b[43m)\u001b[49m\u001b[43m \u001b[49m\u001b[38;5;28;43;01mfor\u001b[39;49;00m\u001b[43m \u001b[49m\u001b[43mi\u001b[49m\u001b[43m \u001b[49m\u001b[38;5;129;43;01min\u001b[39;49;00m\u001b[43m \u001b[49m\u001b[38;5;28;43mrange\u001b[39;49m\u001b[43m(\u001b[49m\u001b[38;5;241;43m1\u001b[39;49m\u001b[43m)\u001b[49m\n\u001b[1;32m    467\u001b[0m \u001b[43m\u001b[49m\u001b[43m)\u001b[49m[\u001b[38;5;241m0\u001b[39m]\n\u001b[1;32m    469\u001b[0m \u001b[38;5;66;03m# pop and cache separately the fitted model object, so we only store the best ones per estimator\u001b[39;00m\n\u001b[1;32m    470\u001b[0m \u001b[38;5;28;01mif\u001b[39;00m \u001b[38;5;124m\"\u001b[39m\u001b[38;5;124mexception\u001b[39m\u001b[38;5;124m\"\u001b[39m \u001b[38;5;129;01mnot\u001b[39;00m \u001b[38;5;129;01min\u001b[39;00m estimates:\n",
      "File \u001b[0;32m~/.local/lib/python3.8/site-packages/joblib/parallel.py:1098\u001b[0m, in \u001b[0;36mParallel.__call__\u001b[0;34m(self, iterable)\u001b[0m\n\u001b[1;32m   1095\u001b[0m     \u001b[38;5;28mself\u001b[39m\u001b[38;5;241m.\u001b[39m_iterating \u001b[38;5;241m=\u001b[39m \u001b[38;5;28;01mFalse\u001b[39;00m\n\u001b[1;32m   1097\u001b[0m \u001b[38;5;28;01mwith\u001b[39;00m \u001b[38;5;28mself\u001b[39m\u001b[38;5;241m.\u001b[39m_backend\u001b[38;5;241m.\u001b[39mretrieval_context():\n\u001b[0;32m-> 1098\u001b[0m     \u001b[38;5;28;43mself\u001b[39;49m\u001b[38;5;241;43m.\u001b[39;49m\u001b[43mretrieve\u001b[49m\u001b[43m(\u001b[49m\u001b[43m)\u001b[49m\n\u001b[1;32m   1099\u001b[0m \u001b[38;5;66;03m# Make sure that we get a last message telling us we are done\u001b[39;00m\n\u001b[1;32m   1100\u001b[0m elapsed_time \u001b[38;5;241m=\u001b[39m time\u001b[38;5;241m.\u001b[39mtime() \u001b[38;5;241m-\u001b[39m \u001b[38;5;28mself\u001b[39m\u001b[38;5;241m.\u001b[39m_start_time\n",
      "File \u001b[0;32m~/.local/lib/python3.8/site-packages/joblib/parallel.py:975\u001b[0m, in \u001b[0;36mParallel.retrieve\u001b[0;34m(self)\u001b[0m\n\u001b[1;32m    973\u001b[0m \u001b[38;5;28;01mtry\u001b[39;00m:\n\u001b[1;32m    974\u001b[0m     \u001b[38;5;28;01mif\u001b[39;00m \u001b[38;5;28mgetattr\u001b[39m(\u001b[38;5;28mself\u001b[39m\u001b[38;5;241m.\u001b[39m_backend, \u001b[38;5;124m'\u001b[39m\u001b[38;5;124msupports_timeout\u001b[39m\u001b[38;5;124m'\u001b[39m, \u001b[38;5;28;01mFalse\u001b[39;00m):\n\u001b[0;32m--> 975\u001b[0m         \u001b[38;5;28mself\u001b[39m\u001b[38;5;241m.\u001b[39m_output\u001b[38;5;241m.\u001b[39mextend(\u001b[43mjob\u001b[49m\u001b[38;5;241;43m.\u001b[39;49m\u001b[43mget\u001b[49m\u001b[43m(\u001b[49m\u001b[43mtimeout\u001b[49m\u001b[38;5;241;43m=\u001b[39;49m\u001b[38;5;28;43mself\u001b[39;49m\u001b[38;5;241;43m.\u001b[39;49m\u001b[43mtimeout\u001b[49m\u001b[43m)\u001b[49m)\n\u001b[1;32m    976\u001b[0m     \u001b[38;5;28;01melse\u001b[39;00m:\n\u001b[1;32m    977\u001b[0m         \u001b[38;5;28mself\u001b[39m\u001b[38;5;241m.\u001b[39m_output\u001b[38;5;241m.\u001b[39mextend(job\u001b[38;5;241m.\u001b[39mget())\n",
      "File \u001b[0;32m/gpfs/space/software/cluster_software/spack/linux-centos7-x86_64/gcc-9.2.0/python-3.8.6-xhncxxe2iqk6pqtqlalo7kzbcg3x7c24/lib/python3.8/multiprocessing/pool.py:765\u001b[0m, in \u001b[0;36mApplyResult.get\u001b[0;34m(self, timeout)\u001b[0m\n\u001b[1;32m    764\u001b[0m \u001b[38;5;28;01mdef\u001b[39;00m \u001b[38;5;21mget\u001b[39m(\u001b[38;5;28mself\u001b[39m, timeout\u001b[38;5;241m=\u001b[39m\u001b[38;5;28;01mNone\u001b[39;00m):\n\u001b[0;32m--> 765\u001b[0m     \u001b[38;5;28;43mself\u001b[39;49m\u001b[38;5;241;43m.\u001b[39;49m\u001b[43mwait\u001b[49m\u001b[43m(\u001b[49m\u001b[43mtimeout\u001b[49m\u001b[43m)\u001b[49m\n\u001b[1;32m    766\u001b[0m     \u001b[38;5;28;01mif\u001b[39;00m \u001b[38;5;129;01mnot\u001b[39;00m \u001b[38;5;28mself\u001b[39m\u001b[38;5;241m.\u001b[39mready():\n\u001b[1;32m    767\u001b[0m         \u001b[38;5;28;01mraise\u001b[39;00m \u001b[38;5;167;01mTimeoutError\u001b[39;00m\n",
      "File \u001b[0;32m/gpfs/space/software/cluster_software/spack/linux-centos7-x86_64/gcc-9.2.0/python-3.8.6-xhncxxe2iqk6pqtqlalo7kzbcg3x7c24/lib/python3.8/multiprocessing/pool.py:762\u001b[0m, in \u001b[0;36mApplyResult.wait\u001b[0;34m(self, timeout)\u001b[0m\n\u001b[1;32m    761\u001b[0m \u001b[38;5;28;01mdef\u001b[39;00m \u001b[38;5;21mwait\u001b[39m(\u001b[38;5;28mself\u001b[39m, timeout\u001b[38;5;241m=\u001b[39m\u001b[38;5;28;01mNone\u001b[39;00m):\n\u001b[0;32m--> 762\u001b[0m     \u001b[38;5;28;43mself\u001b[39;49m\u001b[38;5;241;43m.\u001b[39;49m\u001b[43m_event\u001b[49m\u001b[38;5;241;43m.\u001b[39;49m\u001b[43mwait\u001b[49m\u001b[43m(\u001b[49m\u001b[43mtimeout\u001b[49m\u001b[43m)\u001b[49m\n",
      "File \u001b[0;32m/gpfs/space/software/cluster_software/spack/linux-centos7-x86_64/gcc-9.2.0/python-3.8.6-xhncxxe2iqk6pqtqlalo7kzbcg3x7c24/lib/python3.8/threading.py:558\u001b[0m, in \u001b[0;36mEvent.wait\u001b[0;34m(self, timeout)\u001b[0m\n\u001b[1;32m    556\u001b[0m signaled \u001b[38;5;241m=\u001b[39m \u001b[38;5;28mself\u001b[39m\u001b[38;5;241m.\u001b[39m_flag\n\u001b[1;32m    557\u001b[0m \u001b[38;5;28;01mif\u001b[39;00m \u001b[38;5;129;01mnot\u001b[39;00m signaled:\n\u001b[0;32m--> 558\u001b[0m     signaled \u001b[38;5;241m=\u001b[39m \u001b[38;5;28;43mself\u001b[39;49m\u001b[38;5;241;43m.\u001b[39;49m\u001b[43m_cond\u001b[49m\u001b[38;5;241;43m.\u001b[39;49m\u001b[43mwait\u001b[49m\u001b[43m(\u001b[49m\u001b[43mtimeout\u001b[49m\u001b[43m)\u001b[49m\n\u001b[1;32m    559\u001b[0m \u001b[38;5;28;01mreturn\u001b[39;00m signaled\n",
      "File \u001b[0;32m/gpfs/space/software/cluster_software/spack/linux-centos7-x86_64/gcc-9.2.0/python-3.8.6-xhncxxe2iqk6pqtqlalo7kzbcg3x7c24/lib/python3.8/threading.py:302\u001b[0m, in \u001b[0;36mCondition.wait\u001b[0;34m(self, timeout)\u001b[0m\n\u001b[1;32m    300\u001b[0m \u001b[38;5;28;01mtry\u001b[39;00m:    \u001b[38;5;66;03m# restore state no matter what (e.g., KeyboardInterrupt)\u001b[39;00m\n\u001b[1;32m    301\u001b[0m     \u001b[38;5;28;01mif\u001b[39;00m timeout \u001b[38;5;129;01mis\u001b[39;00m \u001b[38;5;28;01mNone\u001b[39;00m:\n\u001b[0;32m--> 302\u001b[0m         \u001b[43mwaiter\u001b[49m\u001b[38;5;241;43m.\u001b[39;49m\u001b[43macquire\u001b[49m\u001b[43m(\u001b[49m\u001b[43m)\u001b[49m\n\u001b[1;32m    303\u001b[0m         gotit \u001b[38;5;241m=\u001b[39m \u001b[38;5;28;01mTrue\u001b[39;00m\n\u001b[1;32m    304\u001b[0m     \u001b[38;5;28;01melse\u001b[39;00m:\n",
      "\u001b[0;31mKeyboardInterrupt\u001b[0m: "
     ]
    }
   ],
   "source": [
    "for i_run in range(1,n_runs+1):\n",
    "\n",
    "    train_df, test_df = train_test_split(data_df, test_size=test_size)\n",
    "    test_df = test_df.reset_index(drop=True)\n",
    "    \n",
    "    for metric in metrics:\n",
    "        clf = RandomForestClassifier(max_depth=2, random_state=0)\n",
    "        ac = AutoCausality(\n",
    "                metric=metric,\n",
    "                verbose=1,\n",
    "                components_verbose=1,\n",
    "                components_time_budget=components_time_budget,\n",
    "                estimator_list=estimator_list,\n",
    "                store_all_estimators=True,\n",
    "                propensity_model=clf,\n",
    "            )\n",
    "\n",
    "        ac.fit(\n",
    "                train_df,\n",
    "                treatment=\"treatment\",\n",
    "                outcome=[\"outcome\"],\n",
    "                common_causes=features_W,\n",
    "                effect_modifiers=features_X,\n",
    "            )\n",
    "            \n",
    "            # compute relevant scores (skip newdummy)\n",
    "        datasets = {\"train\": ac.train_df, \"validation\": ac.test_df, \"test\": test_df}\n",
    "            # get scores on train,val,test for each trial, \n",
    "            # sort trials by validation set performance\n",
    "            # assign trials to estimators\n",
    "        estimator_scores = {est: [] for est in ac.scores.keys() if \"NewDummy\" not in est}\n",
    "        for trial in ac.results.trials:\n",
    "                # estimator name:\n",
    "            estimator_name = trial.last_result[\"estimator_name\"]\n",
    "            if  trial.last_result[\"estimator\"]:\n",
    "                estimator = trial.last_result[\"estimator\"]\n",
    "                scores = {}\n",
    "                for ds_name, df in datasets.items():\n",
    "                    scores[ds_name] = {}\n",
    "                        # make scores\n",
    "                    est_scores = ac.scorer.make_scores(\n",
    "                            estimator,\n",
    "                            df,\n",
    "                            #problem=ac.problem,\n",
    "                            metrics_to_report=ac.metrics_to_report,\n",
    "                        )\n",
    "\n",
    "                        # add cate:\n",
    "                    scores[ds_name][\"CATE_estimate\"] = estimator.estimator.effect(df)\n",
    "                        # add ground truth for convenience\n",
    "                    scores[ds_name][\"CATE_groundtruth\"] = df[\"true_effect\"]\n",
    "                    scores[ds_name][metric] = est_scores[metric]\n",
    "                estimator_scores[estimator_name].append(scores)\n",
    "\n",
    "\n",
    "            # sort trials by validation performance\n",
    "        for k in estimator_scores.keys():\n",
    "            estimator_scores[k] = sorted(\n",
    "                estimator_scores[k],\n",
    "                key=lambda x: x[\"validation\"][metric],\n",
    "                    reverse=False if metric == \"energy_distance\" else True,\n",
    "                )\n",
    "        results = {\n",
    "                \"best_estimator\": ac.best_estimator,\n",
    "                \"best_config\": ac.best_config,\n",
    "                \"best_score\": ac.best_score,\n",
    "                \"optimised_metric\": metric,\n",
    "                \"scores_per_estimator\": estimator_scores,\n",
    "        }\n",
    "        with open(f\"{out_dir}{filename_out}_{metric}_run_{i_run}.pkl\", \"wb\") as f:\n",
    "            pickle.dump(results, f)"
   ]
  },
  {
   "cell_type": "code",
   "execution_count": 15,
   "id": "dcf56b00-10cc-4908-8dea-0937e3c3469b",
   "metadata": {},
   "outputs": [
    {
     "data": {
      "image/png": "[encoded data removed]",
      "text/plain": [
       "<Figure size 2400x750 with 3 Axes>"
      ]
     },
     "metadata": {},
     "output_type": "display_data"
    }
   ],
   "source": [
    "%matplotlib inline\n",
    "f, axs = plt.subplots(1,len(metrics),figsize=(8,2.5),dpi=300)\n",
    "\n",
    "\n",
    "# plot true against estimated for best estimator:\n",
    "for ax, metric in zip(axs, metrics):\n",
    "    try:\n",
    "        with open(f\"{out_dir}{filename_out}_{metric}_run_1.pkl\",\"rb\") as f:\n",
    "            results = pickle.load(f)\n",
    "        CATE_gt = results[\"scores_per_estimator\"][results[\"best_estimator\"]][0][\"test\"][\"CATE_groundtruth\"]\n",
    "        CATE_est = results[\"scores_per_estimator\"][results[\"best_estimator\"]][0][\"test\"][\"CATE_estimate\"]\n",
    "        \n",
    "\n",
    "        ax.scatter(CATE_gt,CATE_est,s=20,alpha=0.1)        \n",
    "        ax.plot([min(CATE_gt),max(CATE_gt)],[min(CATE_gt),max(CATE_gt)],\"k-\",linewidth=0.5)\n",
    "        ax.set_xlabel(\"true CATE\")\n",
    "        ax.set_ylabel(\"estimated CATE\")\n",
    "        ax.set_title(f\"{results['optimised_metric']}\")\n",
    "        ax.set_xlim([-15,15])\n",
    "        ax.set_ylim([-15,15])\n",
    "        # ax.set_xticks(np.arange(-0.5,0.51,0.5))\n",
    "        # ax.set_yticks(np.arange(-0.5,0.51,0.5))\n",
    "        ax.spines[\"top\"].set_visible(False)\n",
    "        ax.spines[\"right\"].set_visible(False)\n",
    "    except:\n",
    "        pass\n",
    "plt.tight_layout() "
   ]
  },
  {
   "cell_type": "code",
   "execution_count": null,
   "id": "7914bf51-1ba1-424b-90e4-1d815ba83fb4",
   "metadata": {},
   "outputs": [],
   "source": []
  }
 ],
 "metadata": {
  "kernelspec": {
   "display_name": "Causality",
   "language": "python",
   "name": "causality"
  },
  "language_info": {
   "codemirror_mode": {
    "name": "ipython",
    "version": 3
   },
   "file_extension": ".py",
   "mimetype": "text/x-python",
   "name": "python",
   "nbconvert_exporter": "python",
   "pygments_lexer": "ipython3",
   "version": "3.8.6"
  }
 },
 "nbformat": 4,
 "nbformat_minor": 5
}
